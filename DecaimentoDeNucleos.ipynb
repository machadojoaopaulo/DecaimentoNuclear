{
  "nbformat": 4,
  "nbformat_minor": 0,
  "metadata": {
    "colab": {
      "name": "DecaimentoDeNucleos.ipynb",
      "provenance": []
    },
    "kernelspec": {
      "name": "python3",
      "display_name": "Python 3"
    },
    "language_info": {
      "name": "python"
    }
  },
  "cells": [
    {
      "cell_type": "code",
      "metadata": {
        "id": "VthgMe_c8Z0i"
      },
      "source": [
        "import pandas as pd\n",
        "import numpy as np "
      ],
      "execution_count": null,
      "outputs": []
    },
    {
      "cell_type": "code",
      "metadata": {
        "colab": {
          "base_uri": "https://localhost:8080/"
        },
        "id": "THigt9Wr8wqB",
        "outputId": "347a03f4-e217-492f-ad53-beb78e26fe8c"
      },
      "source": [
        "#criando as listas com os valores Tempo e Nucleos Decaidos\n",
        "tempo = int(input(\"Digite o tempo total: \"))\n",
        "tempo = range(tempo)\n",
        "nucleos = float(input(\"Digite o numero de nucleos: \"))\n",
        "alpha = float(input(\"Digite o coef. nuclear: \"))\n",
        "\n",
        "dados = []\n",
        "dados.append([0, nucleos])\n",
        "\n",
        "#for que vai criar os nucleos decaidos pelo tempo\n",
        "for i in tempo:\n",
        "\n",
        "  nucleos = nucleos * ( 1 - alpha)\n",
        "  dados.append([(i+1), nucleos])\n",
        "\n",
        "\n",
        "#criando um dataframe a partir dos dados coletados\n",
        "dataset = pd.DataFrame(dados)\n",
        "\n",
        "#renomeando as colunas do dataframe\n",
        "dataset_novo = dataset.rename(columns = {0 : 'Tempo', 1 : 'Nucleos'}, inplace = False)\n",
        "\n",
        "#criando a coluna ln(Nucleos) -> vai ser a escala logritimica\n",
        "dataset_novo['ln(Nucleos)'] = np.log(dataset_novo['Nucleos'])\n"
      ],
      "execution_count": null,
      "outputs": [
        {
          "name": "stdout",
          "output_type": "stream",
          "text": [
            "Digite o tempo total: 1000\n",
            "Digite o numero de nucleos: 1000\n",
            "Digite o coef. nuclear: 0.00924\n"
          ]
        }
      ]
    },
    {
      "cell_type": "code",
      "metadata": {
        "id": "HYNhPaz5PbLh",
        "colab": {
          "base_uri": "https://localhost:8080/",
          "height": 419
        },
        "outputId": "56c66e8e-38df-46f1-eb79-89ddc1d6cdf5"
      },
      "source": [
        "dataset_novo"
      ],
      "execution_count": null,
      "outputs": [
        {
          "output_type": "execute_result",
          "data": {
            "text/html": [
              "<div>\n",
              "<style scoped>\n",
              "    .dataframe tbody tr th:only-of-type {\n",
              "        vertical-align: middle;\n",
              "    }\n",
              "\n",
              "    .dataframe tbody tr th {\n",
              "        vertical-align: top;\n",
              "    }\n",
              "\n",
              "    .dataframe thead th {\n",
              "        text-align: right;\n",
              "    }\n",
              "</style>\n",
              "<table border=\"1\" class=\"dataframe\">\n",
              "  <thead>\n",
              "    <tr style=\"text-align: right;\">\n",
              "      <th></th>\n",
              "      <th>Tempo</th>\n",
              "      <th>Nucleos</th>\n",
              "      <th>ln(Nucleos)</th>\n",
              "    </tr>\n",
              "  </thead>\n",
              "  <tbody>\n",
              "    <tr>\n",
              "      <th>0</th>\n",
              "      <td>0</td>\n",
              "      <td>1000.000000</td>\n",
              "      <td>6.907755</td>\n",
              "    </tr>\n",
              "    <tr>\n",
              "      <th>1</th>\n",
              "      <td>1</td>\n",
              "      <td>990.760000</td>\n",
              "      <td>6.898472</td>\n",
              "    </tr>\n",
              "    <tr>\n",
              "      <th>2</th>\n",
              "      <td>2</td>\n",
              "      <td>981.605378</td>\n",
              "      <td>6.889189</td>\n",
              "    </tr>\n",
              "    <tr>\n",
              "      <th>3</th>\n",
              "      <td>3</td>\n",
              "      <td>972.535344</td>\n",
              "      <td>6.879906</td>\n",
              "    </tr>\n",
              "    <tr>\n",
              "      <th>4</th>\n",
              "      <td>4</td>\n",
              "      <td>963.549117</td>\n",
              "      <td>6.870623</td>\n",
              "    </tr>\n",
              "    <tr>\n",
              "      <th>...</th>\n",
              "      <td>...</td>\n",
              "      <td>...</td>\n",
              "      <td>...</td>\n",
              "    </tr>\n",
              "    <tr>\n",
              "      <th>996</th>\n",
              "      <td>996</td>\n",
              "      <td>0.096514</td>\n",
              "      <td>-2.338067</td>\n",
              "    </tr>\n",
              "    <tr>\n",
              "      <th>997</th>\n",
              "      <td>997</td>\n",
              "      <td>0.095622</td>\n",
              "      <td>-2.347349</td>\n",
              "    </tr>\n",
              "    <tr>\n",
              "      <th>998</th>\n",
              "      <td>998</td>\n",
              "      <td>0.094739</td>\n",
              "      <td>-2.356632</td>\n",
              "    </tr>\n",
              "    <tr>\n",
              "      <th>999</th>\n",
              "      <td>999</td>\n",
              "      <td>0.093863</td>\n",
              "      <td>-2.365915</td>\n",
              "    </tr>\n",
              "    <tr>\n",
              "      <th>1000</th>\n",
              "      <td>1000</td>\n",
              "      <td>0.092996</td>\n",
              "      <td>-2.375198</td>\n",
              "    </tr>\n",
              "  </tbody>\n",
              "</table>\n",
              "<p>1001 rows × 3 columns</p>\n",
              "</div>"
            ],
            "text/plain": [
              "      Tempo      Nucleos  ln(Nucleos)\n",
              "0         0  1000.000000     6.907755\n",
              "1         1   990.760000     6.898472\n",
              "2         2   981.605378     6.889189\n",
              "3         3   972.535344     6.879906\n",
              "4         4   963.549117     6.870623\n",
              "...     ...          ...          ...\n",
              "996     996     0.096514    -2.338067\n",
              "997     997     0.095622    -2.347349\n",
              "998     998     0.094739    -2.356632\n",
              "999     999     0.093863    -2.365915\n",
              "1000   1000     0.092996    -2.375198\n",
              "\n",
              "[1001 rows x 3 columns]"
            ]
          },
          "metadata": {},
          "execution_count": 29
        }
      ]
    },
    {
      "cell_type": "code",
      "metadata": {
        "id": "9JkStoa7Jjlr",
        "colab": {
          "base_uri": "https://localhost:8080/",
          "height": 317
        },
        "outputId": "0b121676-41fc-4a42-f960-6169a004227f"
      },
      "source": [
        "#importante a biblioteca para plotar os graficos nucleos x tempo e ln(nucleos) x tempo\n",
        "import matplotlib.pyplot as plt \n",
        "\n",
        "dataset_novo.plot(\"Tempo\", \"Nucleos\")\n",
        "plt.style.use('ggplot')\n",
        "plt.xlabel('Tempo')\n",
        "plt.ylabel('Núcleos')\n",
        "plt.title('Tempo x Nº de Núcleos')"
      ],
      "execution_count": null,
      "outputs": [
        {
          "output_type": "execute_result",
          "data": {
            "text/plain": [
              "Text(0.5, 1.0, 'Tempo x Nº de Núcleos')"
            ]
          },
          "metadata": {},
          "execution_count": 30
        },
        {
          "output_type": "display_data",
          "data": {
            "image/png": "[encoded data removed]",
            "text/plain": [
              "<Figure size 432x288 with 1 Axes>"
            ]
          },
          "metadata": {}
        }
      ]
    },
    {
      "cell_type": "code",
      "metadata": {
        "id": "tPyXGlEILb5U",
        "colab": {
          "base_uri": "https://localhost:8080/",
          "height": 317
        },
        "outputId": "22861a9f-b7d7-43c0-b3d3-b5a09e0daa93"
      },
      "source": [
        "#importante a biblioteca para plotar os graficos nucleos x tempo e ln(nucleos) x tempo\n",
        "import matplotlib.pyplot as plt\n",
        "\n",
        "dataset_novo.plot(\"Tempo\", \"ln(Nucleos)\")\n",
        "plt.style.use('ggplot')\n",
        "plt.xlabel('Tempo')\n",
        "plt.ylabel('Ln(Núcleos)')\n",
        "plt.title('Tempo x Ln(Nº de Núcleos)')"
      ],
      "execution_count": null,
      "outputs": [
        {
          "output_type": "execute_result",
          "data": {
            "text/plain": [
              "Text(0.5, 1.0, 'Tempo x Ln(Nº de Núcleos)')"
            ]
          },
          "metadata": {},
          "execution_count": 31
        },
        {
          "output_type": "display_data",
          "data": {
            "image/png": "[encoded data removed]",
            "text/plain": [
              "<Figure size 432x288 with 1 Axes>"
            ]
          },
          "metadata": {}
        }
      ]
    },
    {
      "cell_type": "code",
      "metadata": {
        "colab": {
          "base_uri": "https://localhost:8080/",
          "height": 299
        },
        "id": "DsRsVUhsGTXz",
        "outputId": "703704a5-daf5-41cb-cd95-e21978cdd697"
      },
      "source": [
        "\n",
        "#importanto biblioteca para curvefit\n",
        "from numpy import sin\n",
        "from numpy import sqrt\n",
        "from numpy import arange\n",
        "from pandas import read_csv\n",
        "from scipy.optimize import curve_fit\n",
        "from matplotlib import pyplot\n",
        "\n",
        "\n",
        "#função para deteminar o a regressão linear dos dados ln(nucleos) x tempo\n",
        "def objective(x, a, b):\n",
        "\treturn a * x + b\n",
        "\n",
        "\n",
        "# choose the input and output variables\n",
        "x= dataset_novo['Tempo']\n",
        "y= dataset_novo['ln(Nucleos)']\n",
        "\n",
        "# curve fit\n",
        "popt, _ = curve_fit(objective, x, y)\n",
        "\n",
        "# summarize the parameter values\n",
        "a, b = popt\n",
        "\n",
        "# plot input vs output\n",
        "pyplot.scatter(x, y)\n",
        "\n",
        "# define a sequence of inputs between the smallest and largest known inputs\n",
        "x_line = arange(min(x), max(x), 1)\n",
        "\n",
        "# calculate the output for the range\n",
        "y_line = objective(x_line, a, b)\n",
        "\n",
        "# create a line plot for the mapping function\n",
        "pyplot.plot(x_line, y_line, '--', color='blue')\n",
        "pyplot.show()\n",
        "\n",
        "print('y = %.5f * x + %.5f' % (a, b))\n",
        "print('O coef. encontrado é %.5f' % (-a))"
      ],
      "execution_count": null,
      "outputs": [
        {
          "output_type": "display_data",
          "data": {
            "image/png": "[encoded data removed]",
            "text/plain": [
              "<Figure size 432x288 with 1 Axes>"
            ]
          },
          "metadata": {}
        },
        {
          "output_type": "stream",
          "name": "stdout",
          "text": [
            "y = -0.00928 * x + 6.90776\n",
            "O coef. encontrado é 0.00928\n"
          ]
        }
      ]
    }
  ]
}